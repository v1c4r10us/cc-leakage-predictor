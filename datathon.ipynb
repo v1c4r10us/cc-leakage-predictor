{
 "cells": [
  {
   "cell_type": "code",
   "execution_count": 1,
   "id": "734b4562-5a1b-4684-a0a4-94bd525f4609",
   "metadata": {},
   "outputs": [],
   "source": [
    "import pandas as pd"
   ]
  },
  {
   "cell_type": "code",
   "execution_count": 11,
   "id": "9577fedc-471f-4928-ad6d-8a60210e4722",
   "metadata": {},
   "outputs": [
    {
     "data": {
      "text/html": [
       "<div>\n",
       "<style scoped>\n",
       "    .dataframe tbody tr th:only-of-type {\n",
       "        vertical-align: middle;\n",
       "    }\n",
       "\n",
       "    .dataframe tbody tr th {\n",
       "        vertical-align: top;\n",
       "    }\n",
       "\n",
       "    .dataframe thead th {\n",
       "        text-align: right;\n",
       "    }\n",
       "</style>\n",
       "<table border=\"1\" class=\"dataframe\">\n",
       "  <thead>\n",
       "    <tr style=\"text-align: right;\">\n",
       "      <th></th>\n",
       "      <th>customer_id</th>\n",
       "      <th>customer_age</th>\n",
       "      <th>education_level</th>\n",
       "      <th>marital_status</th>\n",
       "      <th>income_category</th>\n",
       "      <th>number_products_customer</th>\n",
       "      <th>weeks_tenure</th>\n",
       "      <th>contacts_last_12mths</th>\n",
       "      <th>credit_limit</th>\n",
       "      <th>card_class</th>\n",
       "      <th>inactive_months_last_12mths</th>\n",
       "      <th>total_revolving_balance</th>\n",
       "      <th>count_transactions</th>\n",
       "      <th>transactions_amount</th>\n",
       "      <th>change_transaction_amt_last_3mths</th>\n",
       "      <th>change_transaction_count_last_3mths</th>\n",
       "      <th>churn</th>\n",
       "    </tr>\n",
       "  </thead>\n",
       "  <tbody>\n",
       "    <tr>\n",
       "      <th>0</th>\n",
       "      <td>4278</td>\n",
       "      <td>NaN</td>\n",
       "      <td>phd</td>\n",
       "      <td>NaN</td>\n",
       "      <td>30k€-50k€</td>\n",
       "      <td>4</td>\n",
       "      <td>216</td>\n",
       "      <td>1</td>\n",
       "      <td>16541.0</td>\n",
       "      <td>red plus</td>\n",
       "      <td>2</td>\n",
       "      <td>1428</td>\n",
       "      <td>82</td>\n",
       "      <td>4352</td>\n",
       "      <td>0.846</td>\n",
       "      <td>0.907</td>\n",
       "      <td>0</td>\n",
       "    </tr>\n",
       "    <tr>\n",
       "      <th>1</th>\n",
       "      <td>7300</td>\n",
       "      <td>45.0</td>\n",
       "      <td>graduate</td>\n",
       "      <td>single</td>\n",
       "      <td>&lt;30k€</td>\n",
       "      <td>5</td>\n",
       "      <td>115</td>\n",
       "      <td>3</td>\n",
       "      <td>1438.3</td>\n",
       "      <td>red</td>\n",
       "      <td>3</td>\n",
       "      <td>576</td>\n",
       "      <td>66</td>\n",
       "      <td>5098</td>\n",
       "      <td>0.774</td>\n",
       "      <td>0.833</td>\n",
       "      <td>0</td>\n",
       "    </tr>\n",
       "    <tr>\n",
       "      <th>2</th>\n",
       "      <td>6857</td>\n",
       "      <td>NaN</td>\n",
       "      <td>uneducated</td>\n",
       "      <td>married</td>\n",
       "      <td>30k€-50k€</td>\n",
       "      <td>6</td>\n",
       "      <td>172</td>\n",
       "      <td>2</td>\n",
       "      <td>2293.0</td>\n",
       "      <td>red</td>\n",
       "      <td>1</td>\n",
       "      <td>1460</td>\n",
       "      <td>74</td>\n",
       "      <td>4436</td>\n",
       "      <td>0.658</td>\n",
       "      <td>0.542</td>\n",
       "      <td>0</td>\n",
       "    </tr>\n",
       "    <tr>\n",
       "      <th>3</th>\n",
       "      <td>2508</td>\n",
       "      <td>39.0</td>\n",
       "      <td>graduate</td>\n",
       "      <td>married</td>\n",
       "      <td>70k€-110k€</td>\n",
       "      <td>5</td>\n",
       "      <td>124</td>\n",
       "      <td>2</td>\n",
       "      <td>17523.0</td>\n",
       "      <td>red</td>\n",
       "      <td>2</td>\n",
       "      <td>0</td>\n",
       "      <td>54</td>\n",
       "      <td>1974</td>\n",
       "      <td>0.424</td>\n",
       "      <td>0.688</td>\n",
       "      <td>1</td>\n",
       "    </tr>\n",
       "    <tr>\n",
       "      <th>4</th>\n",
       "      <td>7859</td>\n",
       "      <td>40.0</td>\n",
       "      <td>graduate</td>\n",
       "      <td>single</td>\n",
       "      <td>&lt;30k€</td>\n",
       "      <td>2</td>\n",
       "      <td>107</td>\n",
       "      <td>2</td>\n",
       "      <td>4391.0</td>\n",
       "      <td>red</td>\n",
       "      <td>2</td>\n",
       "      <td>1933</td>\n",
       "      <td>36</td>\n",
       "      <td>1849</td>\n",
       "      <td>0.579</td>\n",
       "      <td>0.385</td>\n",
       "      <td>1</td>\n",
       "    </tr>\n",
       "    <tr>\n",
       "      <th>...</th>\n",
       "      <td>...</td>\n",
       "      <td>...</td>\n",
       "      <td>...</td>\n",
       "      <td>...</td>\n",
       "      <td>...</td>\n",
       "      <td>...</td>\n",
       "      <td>...</td>\n",
       "      <td>...</td>\n",
       "      <td>...</td>\n",
       "      <td>...</td>\n",
       "      <td>...</td>\n",
       "      <td>...</td>\n",
       "      <td>...</td>\n",
       "      <td>...</td>\n",
       "      <td>...</td>\n",
       "      <td>...</td>\n",
       "      <td>...</td>\n",
       "    </tr>\n",
       "    <tr>\n",
       "      <th>4387</th>\n",
       "      <td>8590</td>\n",
       "      <td>27.0</td>\n",
       "      <td>high school</td>\n",
       "      <td>single</td>\n",
       "      <td>NaN</td>\n",
       "      <td>5</td>\n",
       "      <td>147</td>\n",
       "      <td>3</td>\n",
       "      <td>3184.0</td>\n",
       "      <td>red</td>\n",
       "      <td>2</td>\n",
       "      <td>1421</td>\n",
       "      <td>59</td>\n",
       "      <td>2253</td>\n",
       "      <td>0.712</td>\n",
       "      <td>0.439</td>\n",
       "      <td>0</td>\n",
       "    </tr>\n",
       "    <tr>\n",
       "      <th>4388</th>\n",
       "      <td>8131</td>\n",
       "      <td>50.0</td>\n",
       "      <td>NaN</td>\n",
       "      <td>married</td>\n",
       "      <td>&lt;30k€</td>\n",
       "      <td>3</td>\n",
       "      <td>175</td>\n",
       "      <td>0</td>\n",
       "      <td>5139.0</td>\n",
       "      <td>red</td>\n",
       "      <td>3</td>\n",
       "      <td>0</td>\n",
       "      <td>44</td>\n",
       "      <td>1653</td>\n",
       "      <td>0.330</td>\n",
       "      <td>0.692</td>\n",
       "      <td>1</td>\n",
       "    </tr>\n",
       "    <tr>\n",
       "      <th>4389</th>\n",
       "      <td>3445</td>\n",
       "      <td>48.0</td>\n",
       "      <td>uneducated</td>\n",
       "      <td>single</td>\n",
       "      <td>&lt;30k€</td>\n",
       "      <td>3</td>\n",
       "      <td>180</td>\n",
       "      <td>2</td>\n",
       "      <td>2094.0</td>\n",
       "      <td>red</td>\n",
       "      <td>3</td>\n",
       "      <td>0</td>\n",
       "      <td>46</td>\n",
       "      <td>2690</td>\n",
       "      <td>0.897</td>\n",
       "      <td>0.484</td>\n",
       "      <td>1</td>\n",
       "    </tr>\n",
       "    <tr>\n",
       "      <th>4390</th>\n",
       "      <td>2832</td>\n",
       "      <td>NaN</td>\n",
       "      <td>graduate</td>\n",
       "      <td>divorced</td>\n",
       "      <td>30k€-50k€</td>\n",
       "      <td>1</td>\n",
       "      <td>116</td>\n",
       "      <td>3</td>\n",
       "      <td>5821.0</td>\n",
       "      <td>red</td>\n",
       "      <td>2</td>\n",
       "      <td>894</td>\n",
       "      <td>42</td>\n",
       "      <td>2011</td>\n",
       "      <td>0.461</td>\n",
       "      <td>0.273</td>\n",
       "      <td>1</td>\n",
       "    </tr>\n",
       "    <tr>\n",
       "      <th>4391</th>\n",
       "      <td>529</td>\n",
       "      <td>58.0</td>\n",
       "      <td>uneducated</td>\n",
       "      <td>single</td>\n",
       "      <td>NaN</td>\n",
       "      <td>5</td>\n",
       "      <td>191</td>\n",
       "      <td>1</td>\n",
       "      <td>5261.0</td>\n",
       "      <td>red</td>\n",
       "      <td>2</td>\n",
       "      <td>1966</td>\n",
       "      <td>86</td>\n",
       "      <td>4448</td>\n",
       "      <td>0.672</td>\n",
       "      <td>0.792</td>\n",
       "      <td>0</td>\n",
       "    </tr>\n",
       "  </tbody>\n",
       "</table>\n",
       "<p>4392 rows × 17 columns</p>\n",
       "</div>"
      ],
      "text/plain": [
       "      customer_id  customer_age education_level marital_status  \\\n",
       "0            4278           NaN             phd            NaN   \n",
       "1            7300          45.0        graduate         single   \n",
       "2            6857           NaN      uneducated        married   \n",
       "3            2508          39.0        graduate        married   \n",
       "4            7859          40.0        graduate         single   \n",
       "...           ...           ...             ...            ...   \n",
       "4387         8590          27.0     high school         single   \n",
       "4388         8131          50.0             NaN        married   \n",
       "4389         3445          48.0      uneducated         single   \n",
       "4390         2832           NaN        graduate       divorced   \n",
       "4391          529          58.0      uneducated         single   \n",
       "\n",
       "     income_category  number_products_customer  weeks_tenure  \\\n",
       "0          30k€-50k€                         4           216   \n",
       "1              <30k€                         5           115   \n",
       "2          30k€-50k€                         6           172   \n",
       "3         70k€-110k€                         5           124   \n",
       "4              <30k€                         2           107   \n",
       "...              ...                       ...           ...   \n",
       "4387             NaN                         5           147   \n",
       "4388           <30k€                         3           175   \n",
       "4389           <30k€                         3           180   \n",
       "4390       30k€-50k€                         1           116   \n",
       "4391             NaN                         5           191   \n",
       "\n",
       "      contacts_last_12mths  credit_limit card_class  \\\n",
       "0                        1       16541.0   red plus   \n",
       "1                        3        1438.3        red   \n",
       "2                        2        2293.0        red   \n",
       "3                        2       17523.0        red   \n",
       "4                        2        4391.0        red   \n",
       "...                    ...           ...        ...   \n",
       "4387                     3        3184.0        red   \n",
       "4388                     0        5139.0        red   \n",
       "4389                     2        2094.0        red   \n",
       "4390                     3        5821.0        red   \n",
       "4391                     1        5261.0        red   \n",
       "\n",
       "      inactive_months_last_12mths  total_revolving_balance  \\\n",
       "0                               2                     1428   \n",
       "1                               3                      576   \n",
       "2                               1                     1460   \n",
       "3                               2                        0   \n",
       "4                               2                     1933   \n",
       "...                           ...                      ...   \n",
       "4387                            2                     1421   \n",
       "4388                            3                        0   \n",
       "4389                            3                        0   \n",
       "4390                            2                      894   \n",
       "4391                            2                     1966   \n",
       "\n",
       "      count_transactions  transactions_amount  \\\n",
       "0                     82                 4352   \n",
       "1                     66                 5098   \n",
       "2                     74                 4436   \n",
       "3                     54                 1974   \n",
       "4                     36                 1849   \n",
       "...                  ...                  ...   \n",
       "4387                  59                 2253   \n",
       "4388                  44                 1653   \n",
       "4389                  46                 2690   \n",
       "4390                  42                 2011   \n",
       "4391                  86                 4448   \n",
       "\n",
       "      change_transaction_amt_last_3mths  change_transaction_count_last_3mths  \\\n",
       "0                                 0.846                                0.907   \n",
       "1                                 0.774                                0.833   \n",
       "2                                 0.658                                0.542   \n",
       "3                                 0.424                                0.688   \n",
       "4                                 0.579                                0.385   \n",
       "...                                 ...                                  ...   \n",
       "4387                              0.712                                0.439   \n",
       "4388                              0.330                                0.692   \n",
       "4389                              0.897                                0.484   \n",
       "4390                              0.461                                0.273   \n",
       "4391                              0.672                                0.792   \n",
       "\n",
       "      churn  \n",
       "0         0  \n",
       "1         0  \n",
       "2         0  \n",
       "3         1  \n",
       "4         1  \n",
       "...     ...  \n",
       "4387      0  \n",
       "4388      1  \n",
       "4389      1  \n",
       "4390      1  \n",
       "4391      0  \n",
       "\n",
       "[4392 rows x 17 columns]"
      ]
     },
     "execution_count": 11,
     "metadata": {},
     "output_type": "execute_result"
    }
   ],
   "source": [
    "df=pd.read_csv('train.csv')\n",
    "df"
   ]
  },
  {
   "cell_type": "code",
   "execution_count": 15,
   "id": "060c860d-88f7-47fe-bd4a-1cfdd4419133",
   "metadata": {},
   "outputs": [
    {
     "name": "stdout",
     "output_type": "stream",
     "text": [
      "<class 'pandas.core.frame.DataFrame'>\n",
      "RangeIndex: 4392 entries, 0 to 4391\n",
      "Data columns (total 17 columns):\n",
      " #   Column                               Non-Null Count  Dtype  \n",
      "---  ------                               --------------  -----  \n",
      " 0   customer_id                          4392 non-null   int64  \n",
      " 1   customer_age                         3963 non-null   float64\n",
      " 2   education_level                      3735 non-null   object \n",
      " 3   marital_status                       4074 non-null   object \n",
      " 4   income_category                      3891 non-null   object \n",
      " 5   number_products_customer             4392 non-null   int64  \n",
      " 6   weeks_tenure                         4392 non-null   int64  \n",
      " 7   contacts_last_12mths                 4392 non-null   int64  \n",
      " 8   credit_limit                         4392 non-null   float64\n",
      " 9   card_class                           4392 non-null   object \n",
      " 10  inactive_months_last_12mths          4392 non-null   int64  \n",
      " 11  total_revolving_balance              4392 non-null   int64  \n",
      " 12  count_transactions                   4392 non-null   int64  \n",
      " 13  transactions_amount                  4392 non-null   int64  \n",
      " 14  change_transaction_amt_last_3mths    4392 non-null   float64\n",
      " 15  change_transaction_count_last_3mths  4392 non-null   float64\n",
      " 16  churn                                4392 non-null   int64  \n",
      "dtypes: float64(4), int64(9), object(4)\n",
      "memory usage: 583.4+ KB\n"
     ]
    }
   ],
   "source": [
    "df.info()"
   ]
  },
  {
   "cell_type": "code",
   "execution_count": 23,
   "id": "f6613c82-d80b-42bd-a003-93bab81a4210",
   "metadata": {},
   "outputs": [
    {
     "data": {
      "text/plain": [
       "count    4392.000000\n",
       "mean       45.697177\n",
       "std         8.131649\n",
       "min        15.000000\n",
       "25%        41.000000\n",
       "50%        45.000000\n",
       "75%        51.000000\n",
       "max        77.000000\n",
       "Name: customer_age, dtype: float64"
      ]
     },
     "execution_count": 23,
     "metadata": {},
     "output_type": "execute_result"
    }
   ],
   "source": [
    "df['customer_age'].describe() #Rellenar con media"
   ]
  },
  {
   "cell_type": "code",
   "execution_count": 24,
   "id": "6c0584cf-646b-4c12-bea8-8dae4d02659a",
   "metadata": {},
   "outputs": [
    {
     "data": {
      "text/plain": [
       "graduate         2010\n",
       "high school       872\n",
       "uneducated        632\n",
       "college           439\n",
       "post-graduate     232\n",
       "phd               207\n",
       "Name: education_level, dtype: int64"
      ]
     },
     "execution_count": 24,
     "metadata": {},
     "output_type": "execute_result"
    }
   ],
   "source": [
    "df['education_level'].value_counts() #Rellenar con moda"
   ]
  },
  {
   "cell_type": "code",
   "execution_count": 25,
   "id": "75ef01ab-1173-47bd-88ed-0e5fa8271008",
   "metadata": {},
   "outputs": [
    {
     "data": {
      "text/plain": [
       "married     2341\n",
       "single      1724\n",
       "divorced     327\n",
       "Name: marital_status, dtype: int64"
      ]
     },
     "execution_count": 25,
     "metadata": {},
     "output_type": "execute_result"
    }
   ],
   "source": [
    "df['marital_status'].value_counts() #Rellenar con moda"
   ]
  },
  {
   "cell_type": "code",
   "execution_count": 26,
   "id": "e38429ca-2953-4981-9f2e-291f779e0d14",
   "metadata": {},
   "outputs": [
    {
     "data": {
      "text/plain": [
       "<30k€         2031\n",
       "30k€-50k€      776\n",
       "70k€-110k€     682\n",
       "50k€-70k€      597\n",
       "+110k€         306\n",
       "Name: income_category, dtype: int64"
      ]
     },
     "execution_count": 26,
     "metadata": {},
     "output_type": "execute_result"
    }
   ],
   "source": [
    "df['income_category'].value_counts() #Rellenar con moda"
   ]
  },
  {
   "cell_type": "code",
   "execution_count": 22,
   "id": "288ba435-8d25-4773-83af-e8aa8c3f1908",
   "metadata": {},
   "outputs": [],
   "source": [
    "#Limpieza\n",
    "df['customer_age'].fillna(value=45, inplace=True)\n",
    "df['education_level'].fillna(value='graduate', inplace=True)\n",
    "df['marital_status'].fillna(value='married', inplace=True)\n",
    "df['income_category'].fillna(value='<30k€', inplace=True)"
   ]
  },
  {
   "cell_type": "code",
   "execution_count": 28,
   "id": "002a40cc-a878-4cf6-b142-10b912c52966",
   "metadata": {},
   "outputs": [
    {
     "name": "stdout",
     "output_type": "stream",
     "text": [
      "<class 'pandas.core.frame.DataFrame'>\n",
      "RangeIndex: 4392 entries, 0 to 4391\n",
      "Data columns (total 17 columns):\n",
      " #   Column                               Non-Null Count  Dtype  \n",
      "---  ------                               --------------  -----  \n",
      " 0   customer_id                          4392 non-null   int64  \n",
      " 1   customer_age                         4392 non-null   float64\n",
      " 2   education_level                      4392 non-null   object \n",
      " 3   marital_status                       4392 non-null   object \n",
      " 4   income_category                      4392 non-null   object \n",
      " 5   number_products_customer             4392 non-null   int64  \n",
      " 6   weeks_tenure                         4392 non-null   int64  \n",
      " 7   contacts_last_12mths                 4392 non-null   int64  \n",
      " 8   credit_limit                         4392 non-null   float64\n",
      " 9   card_class                           4392 non-null   object \n",
      " 10  inactive_months_last_12mths          4392 non-null   int64  \n",
      " 11  total_revolving_balance              4392 non-null   int64  \n",
      " 12  count_transactions                   4392 non-null   int64  \n",
      " 13  transactions_amount                  4392 non-null   int64  \n",
      " 14  change_transaction_amt_last_3mths    4392 non-null   float64\n",
      " 15  change_transaction_count_last_3mths  4392 non-null   float64\n",
      " 16  churn                                4392 non-null   int64  \n",
      "dtypes: float64(4), int64(9), object(4)\n",
      "memory usage: 583.4+ KB\n"
     ]
    }
   ],
   "source": [
    "df.info()"
   ]
  },
  {
   "cell_type": "code",
   "execution_count": 29,
   "id": "beb3c073-e709-4bc5-bc3e-9b37a391311c",
   "metadata": {},
   "outputs": [
    {
     "name": "stdout",
     "output_type": "stream",
     "text": [
      "<class 'pandas.core.frame.DataFrame'>\n",
      "RangeIndex: 4392 entries, 0 to 4391\n",
      "Data columns (total 17 columns):\n",
      " #   Column                               Non-Null Count  Dtype  \n",
      "---  ------                               --------------  -----  \n",
      " 0   customer_id                          4392 non-null   int64  \n",
      " 1   customer_age                         4392 non-null   float64\n",
      " 2   education_level                      4392 non-null   int64  \n",
      " 3   marital_status                       4392 non-null   int64  \n",
      " 4   income_category                      4392 non-null   int64  \n",
      " 5   number_products_customer             4392 non-null   int64  \n",
      " 6   weeks_tenure                         4392 non-null   int64  \n",
      " 7   contacts_last_12mths                 4392 non-null   int64  \n",
      " 8   credit_limit                         4392 non-null   float64\n",
      " 9   card_class                           4392 non-null   int64  \n",
      " 10  inactive_months_last_12mths          4392 non-null   int64  \n",
      " 11  total_revolving_balance              4392 non-null   int64  \n",
      " 12  count_transactions                   4392 non-null   int64  \n",
      " 13  transactions_amount                  4392 non-null   int64  \n",
      " 14  change_transaction_amt_last_3mths    4392 non-null   float64\n",
      " 15  change_transaction_count_last_3mths  4392 non-null   float64\n",
      " 16  churn                                4392 non-null   int64  \n",
      "dtypes: float64(4), int64(13)\n",
      "memory usage: 583.4 KB\n"
     ]
    }
   ],
   "source": [
    "#Cambio de variables categoricas a numericas\n",
    "from sklearn.preprocessing import LabelEncoder\n",
    "\n",
    "class MultiColumnLabelEncoder: #Class for change multiple objects to numeric values\n",
    "    def __init__(self,columns = None):\n",
    "        self.columns = columns\n",
    "\n",
    "    def fit(self,X,y=None):\n",
    "        return self\n",
    "\n",
    "    def transform(self,X):\n",
    "        output = X.copy()\n",
    "        if self.columns is not None:\n",
    "            for col in self.columns:\n",
    "                output[col] = LabelEncoder().fit_transform(output[col])\n",
    "        else:\n",
    "            for colname,col in output.iteritems():\n",
    "                output[colname] = LabelEncoder().fit_transform(col)\n",
    "        return output\n",
    "\n",
    "    def fit_transform(self,X,y=None):\n",
    "        return self.fit(X,y).transform(X)\n",
    "\n",
    "df=MultiColumnLabelEncoder(columns=['education_level', 'marital_status', 'income_category', 'card_class']).fit_transform(df)\n",
    "\n",
    "df.info() #Se verifica que todas las variables ahora son numéricas"
   ]
  },
  {
   "cell_type": "code",
   "execution_count": 36,
   "id": "8f5f68a1-515b-4166-9a7c-bc7b7944c277",
   "metadata": {},
   "outputs": [],
   "source": [
    "#Division en train y test\n",
    "from sklearn.model_selection import train_test_split\n",
    "ctrain,ctest=train_test_split(df,test_size=0.2,shuffle=True)"
   ]
  },
  {
   "cell_type": "code",
   "execution_count": 41,
   "id": "7944336c-a2d2-461b-ab62-33f306c6e650",
   "metadata": {},
   "outputs": [],
   "source": [
    "ctrain_x=ctrain[['customer_age',\n",
    "                'education_level',\n",
    "                'marital_status',\n",
    "                'income_category',\n",
    "                'number_products_customer',\n",
    "                'weeks_tenure',\n",
    "                'contacts_last_12mths',\n",
    "                'credit_limit',\n",
    "                'card_class',\n",
    "                'inactive_months_last_12mths',\n",
    "                'total_revolving_balance',\n",
    "                'count_transactions',\n",
    "                'transactions_amount',\n",
    "                'change_transaction_amt_last_3mths',\n",
    "                'change_transaction_count_last_3mths']]\n",
    "ctrain_y=ctrain['churn']\n",
    "\n",
    "ctest_x=ctest[['customer_age',\n",
    "                'education_level',\n",
    "                'marital_status',\n",
    "                'income_category',\n",
    "                'number_products_customer',\n",
    "                'weeks_tenure',\n",
    "                'contacts_last_12mths',\n",
    "                'credit_limit',\n",
    "                'card_class',\n",
    "                'inactive_months_last_12mths',\n",
    "                'total_revolving_balance',\n",
    "                'count_transactions',\n",
    "                'transactions_amount',\n",
    "                'change_transaction_amt_last_3mths',\n",
    "                'change_transaction_count_last_3mths']]\n",
    "ctest_y=ctest['churn']"
   ]
  },
  {
   "cell_type": "code",
   "execution_count": 43,
   "id": "8411fddb-b54f-444c-b153-4d74515f0b4b",
   "metadata": {},
   "outputs": [
    {
     "data": {
      "text/plain": [
       "DecisionTreeClassifier(max_depth=19, random_state=0)"
      ]
     },
     "execution_count": 43,
     "metadata": {},
     "output_type": "execute_result"
    }
   ],
   "source": [
    "#Entrenamiento del modelo\n",
    "from sklearn.tree import DecisionTreeClassifier\n",
    "cl=DecisionTreeClassifier(criterion='gini',max_depth=19,random_state=0)\n",
    "cl.fit(ctrain_x,ctrain_y)"
   ]
  },
  {
   "cell_type": "code",
   "execution_count": 44,
   "id": "b6337a5d-4da2-4371-af9c-3c47cb601943",
   "metadata": {},
   "outputs": [],
   "source": [
    "cpredict_y=cl.predict(ctest_x)"
   ]
  },
  {
   "cell_type": "code",
   "execution_count": 45,
   "id": "660a5122-7a18-4668-b63a-58b497689dba",
   "metadata": {},
   "outputs": [
    {
     "name": "stdout",
     "output_type": "stream",
     "text": [
      "Accuracy=  0.9237770193401593\n",
      "Precision=  [0.96330275 0.80888889]\n",
      "recall=  [0.93610698 0.88349515]\n",
      "F1=  [0.94951017 0.84454756]\n"
     ]
    }
   ],
   "source": [
    "#Métricas\n",
    "from sklearn import metrics\n",
    "print(\"Accuracy= \",metrics.accuracy_score(cpredict_y,ctest_y))\n",
    "print(\"Precision= \",metrics.precision_score(cpredict_y,ctest_y,average=None))\n",
    "print(\"recall= \",metrics.recall_score(cpredict_y,ctest_y,average=None))\n",
    "print(\"F1= \",metrics.f1_score(cpredict_y,ctest_y,average=None))"
   ]
  },
  {
   "cell_type": "markdown",
   "id": "c1d5f4ea-b378-40d7-bc0c-14f61dbf57ea",
   "metadata": {},
   "source": [
    "# Datos Test"
   ]
  },
  {
   "cell_type": "code",
   "execution_count": 50,
   "id": "e92a516d-8798-4f8c-a2c2-6b81c1bc741d",
   "metadata": {},
   "outputs": [
    {
     "name": "stdout",
     "output_type": "stream",
     "text": [
      "<class 'pandas.core.frame.DataFrame'>\n",
      "RangeIndex: 1883 entries, 0 to 1882\n",
      "Data columns (total 16 columns):\n",
      " #   Column                               Non-Null Count  Dtype  \n",
      "---  ------                               --------------  -----  \n",
      " 0   customer_id                          1883 non-null   int64  \n",
      " 1   customer_age                         1688 non-null   float64\n",
      " 2   education_level                      1604 non-null   object \n",
      " 3   marital_status                       1741 non-null   object \n",
      " 4   income_category                      1681 non-null   object \n",
      " 5   number_products_customer             1883 non-null   int64  \n",
      " 6   weeks_tenure                         1883 non-null   int64  \n",
      " 7   contacts_last_12mths                 1883 non-null   int64  \n",
      " 8   credit_limit                         1883 non-null   float64\n",
      " 9   card_class                           1883 non-null   object \n",
      " 10  inactive_months_last_12mths          1883 non-null   int64  \n",
      " 11  total_revolving_balance              1883 non-null   int64  \n",
      " 12  count_transactions                   1883 non-null   int64  \n",
      " 13  transactions_amount                  1883 non-null   int64  \n",
      " 14  change_transaction_amt_last_3mths    1883 non-null   float64\n",
      " 15  change_transaction_count_last_3mths  1883 non-null   float64\n",
      "dtypes: float64(4), int64(8), object(4)\n",
      "memory usage: 235.5+ KB\n"
     ]
    }
   ],
   "source": [
    "dft=pd.read_csv('test.csv')\n",
    "dft.info()"
   ]
  },
  {
   "cell_type": "code",
   "execution_count": 49,
   "id": "5a3b68e1-daa7-46d8-8782-e2d6f6cabf9e",
   "metadata": {},
   "outputs": [
    {
     "data": {
      "text/plain": [
       "count    1688.000000\n",
       "mean       46.014218\n",
       "std         8.694433\n",
       "min        21.000000\n",
       "25%        40.000000\n",
       "50%        46.000000\n",
       "75%        52.000000\n",
       "max        73.000000\n",
       "Name: customer_age, dtype: float64"
      ]
     },
     "execution_count": 49,
     "metadata": {},
     "output_type": "execute_result"
    }
   ],
   "source": [
    "dft['customer_age'].describe()"
   ]
  },
  {
   "cell_type": "code",
   "execution_count": 51,
   "id": "cc665c14-a613-4b49-a30e-5834ccc4944d",
   "metadata": {},
   "outputs": [
    {
     "data": {
      "text/plain": [
       "graduate         581\n",
       "high school      351\n",
       "uneducated       279\n",
       "college          210\n",
       "post-graduate     95\n",
       "phd               88\n",
       "Name: education_level, dtype: int64"
      ]
     },
     "execution_count": 51,
     "metadata": {},
     "output_type": "execute_result"
    }
   ],
   "source": [
    "dft['education_level'].value_counts()"
   ]
  },
  {
   "cell_type": "code",
   "execution_count": 52,
   "id": "7c221941-7fee-440f-b11e-36170a04c4e8",
   "metadata": {},
   "outputs": [
    {
     "data": {
      "text/plain": [
       "married     880\n",
       "single      730\n",
       "divorced    131\n",
       "Name: marital_status, dtype: int64"
      ]
     },
     "execution_count": 52,
     "metadata": {},
     "output_type": "execute_result"
    }
   ],
   "source": [
    "dft['marital_status'].value_counts()"
   ]
  },
  {
   "cell_type": "code",
   "execution_count": 53,
   "id": "2db9dd36-06e2-4833-8ee0-406751bf79e2",
   "metadata": {},
   "outputs": [
    {
     "data": {
      "text/plain": [
       "<30k€         651\n",
       "30k€-50k€     348\n",
       "70k€-110k€    282\n",
       "50k€-70k€     254\n",
       "+110k€        146\n",
       "Name: income_category, dtype: int64"
      ]
     },
     "execution_count": 53,
     "metadata": {},
     "output_type": "execute_result"
    }
   ],
   "source": [
    "dft['income_category'].value_counts()"
   ]
  },
  {
   "cell_type": "code",
   "execution_count": 54,
   "id": "eb57c2ae-dc1d-4e45-a519-aa9b4f38cca5",
   "metadata": {},
   "outputs": [],
   "source": [
    "#Limpieza\n",
    "dft['customer_age'].fillna(value=46, inplace=True)\n",
    "dft['education_level'].fillna(value='graduate', inplace=True)\n",
    "dft['marital_status'].fillna(value='married', inplace=True)\n",
    "dft['income_category'].fillna(value='<30k€', inplace=True)"
   ]
  },
  {
   "cell_type": "code",
   "execution_count": 55,
   "id": "d9384775-09d0-41f1-bc3d-0b45ab84ae40",
   "metadata": {},
   "outputs": [
    {
     "name": "stdout",
     "output_type": "stream",
     "text": [
      "<class 'pandas.core.frame.DataFrame'>\n",
      "RangeIndex: 1883 entries, 0 to 1882\n",
      "Data columns (total 16 columns):\n",
      " #   Column                               Non-Null Count  Dtype  \n",
      "---  ------                               --------------  -----  \n",
      " 0   customer_id                          1883 non-null   int64  \n",
      " 1   customer_age                         1883 non-null   float64\n",
      " 2   education_level                      1883 non-null   object \n",
      " 3   marital_status                       1883 non-null   object \n",
      " 4   income_category                      1883 non-null   object \n",
      " 5   number_products_customer             1883 non-null   int64  \n",
      " 6   weeks_tenure                         1883 non-null   int64  \n",
      " 7   contacts_last_12mths                 1883 non-null   int64  \n",
      " 8   credit_limit                         1883 non-null   float64\n",
      " 9   card_class                           1883 non-null   object \n",
      " 10  inactive_months_last_12mths          1883 non-null   int64  \n",
      " 11  total_revolving_balance              1883 non-null   int64  \n",
      " 12  count_transactions                   1883 non-null   int64  \n",
      " 13  transactions_amount                  1883 non-null   int64  \n",
      " 14  change_transaction_amt_last_3mths    1883 non-null   float64\n",
      " 15  change_transaction_count_last_3mths  1883 non-null   float64\n",
      "dtypes: float64(4), int64(8), object(4)\n",
      "memory usage: 235.5+ KB\n"
     ]
    }
   ],
   "source": [
    "dft.info()"
   ]
  },
  {
   "cell_type": "code",
   "execution_count": 56,
   "id": "20275ef5-5d41-4d8b-a426-2870606460f9",
   "metadata": {},
   "outputs": [
    {
     "name": "stdout",
     "output_type": "stream",
     "text": [
      "<class 'pandas.core.frame.DataFrame'>\n",
      "RangeIndex: 1883 entries, 0 to 1882\n",
      "Data columns (total 16 columns):\n",
      " #   Column                               Non-Null Count  Dtype  \n",
      "---  ------                               --------------  -----  \n",
      " 0   customer_id                          1883 non-null   int64  \n",
      " 1   customer_age                         1883 non-null   float64\n",
      " 2   education_level                      1883 non-null   int64  \n",
      " 3   marital_status                       1883 non-null   int64  \n",
      " 4   income_category                      1883 non-null   int64  \n",
      " 5   number_products_customer             1883 non-null   int64  \n",
      " 6   weeks_tenure                         1883 non-null   int64  \n",
      " 7   contacts_last_12mths                 1883 non-null   int64  \n",
      " 8   credit_limit                         1883 non-null   float64\n",
      " 9   card_class                           1883 non-null   int64  \n",
      " 10  inactive_months_last_12mths          1883 non-null   int64  \n",
      " 11  total_revolving_balance              1883 non-null   int64  \n",
      " 12  count_transactions                   1883 non-null   int64  \n",
      " 13  transactions_amount                  1883 non-null   int64  \n",
      " 14  change_transaction_amt_last_3mths    1883 non-null   float64\n",
      " 15  change_transaction_count_last_3mths  1883 non-null   float64\n",
      "dtypes: float64(4), int64(12)\n",
      "memory usage: 235.5 KB\n"
     ]
    }
   ],
   "source": [
    "#Cambio de variables categoricas a numericas\n",
    "from sklearn.preprocessing import LabelEncoder\n",
    "\n",
    "class MultiColumnLabelEncoder: #Class for change multiple objects to numeric values\n",
    "    def __init__(self,columns = None):\n",
    "        self.columns = columns\n",
    "\n",
    "    def fit(self,X,y=None):\n",
    "        return self\n",
    "\n",
    "    def transform(self,X):\n",
    "        output = X.copy()\n",
    "        if self.columns is not None:\n",
    "            for col in self.columns:\n",
    "                output[col] = LabelEncoder().fit_transform(output[col])\n",
    "        else:\n",
    "            for colname,col in output.iteritems():\n",
    "                output[colname] = LabelEncoder().fit_transform(col)\n",
    "        return output\n",
    "\n",
    "    def fit_transform(self,X,y=None):\n",
    "        return self.fit(X,y).transform(X)\n",
    "\n",
    "dft=MultiColumnLabelEncoder(columns=['education_level', 'marital_status', 'income_category', 'card_class']).fit_transform(dft)\n",
    "\n",
    "dft.info() #Se verifica que todas las variables ahora son numéricas"
   ]
  },
  {
   "cell_type": "code",
   "execution_count": 57,
   "id": "5170ed0b-2d6e-4605-b208-6e1fcf2925c9",
   "metadata": {},
   "outputs": [],
   "source": [
    "dft_x=dft[['customer_age',\n",
    "                'education_level',\n",
    "                'marital_status',\n",
    "                'income_category',\n",
    "                'number_products_customer',\n",
    "                'weeks_tenure',\n",
    "                'contacts_last_12mths',\n",
    "                'credit_limit',\n",
    "                'card_class',\n",
    "                'inactive_months_last_12mths',\n",
    "                'total_revolving_balance',\n",
    "                'count_transactions',\n",
    "                'transactions_amount',\n",
    "                'change_transaction_amt_last_3mths',\n",
    "                'change_transaction_count_last_3mths']]"
   ]
  },
  {
   "cell_type": "code",
   "execution_count": 59,
   "id": "5a416b92-53d4-4635-9bfe-3a3249d58444",
   "metadata": {},
   "outputs": [],
   "source": [
    "dft_y=cl.predict(dft_x)"
   ]
  },
  {
   "cell_type": "code",
   "execution_count": 64,
   "id": "9e75120a-c872-4805-b913-b705d350907f",
   "metadata": {},
   "outputs": [],
   "source": [
    "dft['churn']=dft_y.tolist()"
   ]
  },
  {
   "cell_type": "code",
   "execution_count": 67,
   "id": "8aaab50c-bf38-4614-bce2-604e11f35e8f",
   "metadata": {},
   "outputs": [],
   "source": [
    "dft[['customer_id', 'churn']].to_csv('submission.csv', index=False)"
   ]
  }
 ],
 "metadata": {
  "kernelspec": {
   "display_name": "Python 3 (ipykernel)",
   "language": "python",
   "name": "python3"
  },
  "language_info": {
   "codemirror_mode": {
    "name": "ipython",
    "version": 3
   },
   "file_extension": ".py",
   "mimetype": "text/x-python",
   "name": "python",
   "nbconvert_exporter": "python",
   "pygments_lexer": "ipython3",
   "version": "3.9.15"
  }
 },
 "nbformat": 4,
 "nbformat_minor": 5
}
